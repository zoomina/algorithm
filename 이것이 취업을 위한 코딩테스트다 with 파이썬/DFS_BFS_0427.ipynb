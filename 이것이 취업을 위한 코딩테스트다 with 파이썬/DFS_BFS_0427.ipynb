{
 "cells": [
  {
   "cell_type": "code",
   "execution_count": null,
   "metadata": {},
   "outputs": [],
   "source": [
    "import time"
   ]
  },
  {
   "cell_type": "markdown",
   "metadata": {},
   "source": [
    "## 실전 문제 : 음료수 얼려먹기\n",
    "\n",
    "N * M 크기의 얼음틀이 있고, 뚫린 곳은 0 막힌 곳은 1  \n",
    "뚫린 곳끼리 상하좌우로 연결되어 있으면 연결된 것으로 간주  \n",
    "생성되는 총 아이스크림의 수 구하라  \n",
    "\n",
    "<입력조건>  \n",
    "- 첫 번째 줄에 얼음 틀의 세로 길이 N과 가로 길이 M이 주어진다. (1 <= N, M <= 1000)\n",
    "- 두 번째 줄부터 N+1번째 줄까지 얼음 틀의 형태가 주어진다.\n",
    "\n",
    "<출력조건>\n",
    "- 한 번에 만들 수 있는 아이스크림의 수 출력"
   ]
  },
  {
   "cell_type": "code",
   "execution_count": 1,
   "metadata": {},
   "outputs": [],
   "source": [
    "input1 = \"\"\"15 14\n",
    "00000111100000\n",
    "11111101111110\n",
    "11011101101110\n",
    "11011101100000\n",
    "11011111111111\n",
    "11011111111100\n",
    "11000000011111\n",
    "01111111111111\n",
    "00000000011111\n",
    "01111111111000\n",
    "00011111111000\n",
    "00000001111000\n",
    "11111111110011\n",
    "11100011111111\n",
    "11100011111111\"\"\""
   ]
  },
  {
   "cell_type": "code",
   "execution_count": 20,
   "metadata": {},
   "outputs": [
    {
     "name": "stdout",
     "output_type": "stream",
     "text": [
      "8\n",
      "0.0\n"
     ]
    }
   ],
   "source": [
    "s = time.time()\n",
    "\n",
    "# input\n",
    "lines = input1.split(\"\\n\")\n",
    "\n",
    "N, M = (int(n) for n in lines[0].split())\n",
    "\n",
    "board = []\n",
    "for line in lines[1:]:\n",
    "    board.append([int(n) for n in line])\n",
    "    \n",
    "# solution\n",
    "\n",
    "# dfs 함수 정의\n",
    "def dfs(x, y):\n",
    "    # 유효한 영역 안에서만 실행\n",
    "    if (0 <= x < N) and (0 <= y < M):\n",
    "        # 0이면 실행\n",
    "        if board[x][y] == 1:\n",
    "            return False\n",
    "        \n",
    "        elif board[x][y] == 0:\n",
    "            # 방문처리\n",
    "            board[x][y] = 1\n",
    "            dfs(x+1, y)\n",
    "            dfs(x-1, y)\n",
    "            dfs(x, y+1)\n",
    "            dfs(x, y-1)\n",
    "            return True\n",
    "        \n",
    "        else:\n",
    "            return False\n",
    "        \n",
    "    \n",
    "\n",
    "cnt = 0\n",
    "for m in range(M):\n",
    "    for n in range(N):\n",
    "        if board[n][m] == 0:\n",
    "            if dfs(n, m):\n",
    "                cnt += 1\n",
    "\n",
    "e = time.time()\n",
    "\n",
    "print(cnt)\n",
    "print(e-s)"
   ]
  },
  {
   "cell_type": "markdown",
   "metadata": {},
   "source": [
    "## 실전 문제 : 미로 탈출\n",
    "\n",
    "N * M 크기의 미로에서 괴물 피하여 탈출  \n",
    "출발은 (1, 1) / 출구는 (N, M)  \n",
    "한 번에 한 칸씩 이동\n",
    "괴물이 있는 부분은 0으로 있는 부분은 1로\n",
    "움직여야 하는 최소 칸의 수는?(시작칸 마지막칸 포함)  \n",
    "\n",
    "<입력조건>\n",
    "- 첫 째 줄에 N, M(4 <= N, M <= 200)\n",
    "- 다음 줄에 미로의 정보(시작과 끝은 1)\n",
    "\n",
    "<출력 조건>\n",
    "- 최소 이동 칸의 개수 출력"
   ]
  },
  {
   "cell_type": "code",
   "execution_count": 21,
   "metadata": {},
   "outputs": [],
   "source": [
    "input1 = \"\"\"5 6\n",
    "101010\n",
    "111111\n",
    "000001\n",
    "111111\n",
    "111111\"\"\""
   ]
  },
  {
   "cell_type": "code",
   "execution_count": 27,
   "metadata": {},
   "outputs": [
    {
     "name": "stdout",
     "output_type": "stream",
     "text": [
      "10\n",
      "0.0\n"
     ]
    }
   ],
   "source": [
    "from collections import deque\n",
    "s = time.time()\n",
    "# input\n",
    "lines = input1.split(\"\\n\")\n",
    "N, M = (int(n) for n in lines[0].split())\n",
    "maze = []\n",
    "for line in lines[1:]:\n",
    "    maze.append([int(n) for n in line])\n",
    "    \n",
    "# solution\n",
    "\n",
    "# set derection\n",
    "dlist = [(1, 0), (-1, 0), (0, 1), (0, -1)]\n",
    "\n",
    "#bfs 함수 생성\n",
    "def bfs(x, y):\n",
    "    Q = deque()\n",
    "    Q.append((x, y))\n",
    "    while Q:\n",
    "        x, y = Q.popleft()\n",
    "        \n",
    "        for dx, dy in dlist:\n",
    "            nx, ny = x+dx, y+dy\n",
    "            \n",
    "            # 유효 범위 내에서만 실행\n",
    "            if (0 <= nx < N) and (0 <= ny < M) and (maze[nx][ny] == 1):\n",
    "                maze[nx][ny] = maze[x][y] + 1\n",
    "                Q.append((nx, ny))\n",
    "    \n",
    "    return maze[N-1][M-1]\n",
    "\n",
    "print(bfs(0, 0))\n",
    "e = time.time()\n",
    "print(e-s)"
   ]
  },
  {
   "cell_type": "code",
   "execution_count": null,
   "metadata": {},
   "outputs": [],
   "source": []
  }
 ],
 "metadata": {
  "kernelspec": {
   "display_name": "Python 3",
   "language": "python",
   "name": "python3"
  },
  "language_info": {
   "codemirror_mode": {
    "name": "ipython",
    "version": 3
   },
   "file_extension": ".py",
   "mimetype": "text/x-python",
   "name": "python",
   "nbconvert_exporter": "python",
   "pygments_lexer": "ipython3",
   "version": "3.8.3"
  }
 },
 "nbformat": 4,
 "nbformat_minor": 4
}
