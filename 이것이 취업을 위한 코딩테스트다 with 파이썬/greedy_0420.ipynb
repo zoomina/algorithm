{
 "cells": [
  {
   "cell_type": "code",
   "execution_count": 1,
   "metadata": {},
   "outputs": [],
   "source": [
    "import time"
   ]
  },
  {
   "cell_type": "markdown",
   "metadata": {},
   "source": [
    "# Greedy\n",
    "\n",
    "<br>\n",
    "\n",
    "### 예제 3-1 : 거스름돈\n",
    "\n",
    "거스름돈 500, 100, 50, 10원 동전이 무한히 존재  \n",
    "거슬러줄 돈이 N원(N은 10의 배수)일 때, 거슬러줘야 할 동전의 최소 개수?"
   ]
  },
  {
   "cell_type": "code",
   "execution_count": 2,
   "metadata": {},
   "outputs": [
    {
     "name": "stdout",
     "output_type": "stream",
     "text": [
      "input N : 1260\n",
      "[2, 2, 1, 1]\n",
      "동전 개수 : 6\n",
      "0.000997781753540039\n"
     ]
    }
   ],
   "source": [
    "N = int(input(\"input N : \"))\n",
    "s = time.time()\n",
    "\n",
    "##########\n",
    "\n",
    "coin_type = [500, 100, 50, 10]\n",
    "n_coin = []\n",
    "\n",
    "for coin in coin_type:\n",
    "    n_coin.append(N//coin)\n",
    "    N %= coin\n",
    "\n",
    "print(n_coin)\n",
    "print(\"동전 개수 :\", sum(n_coin))\n",
    "\n",
    "##########\n",
    "\n",
    "e = time.time()\n",
    "\n",
    "print(e - s)"
   ]
  },
  {
   "cell_type": "markdown",
   "metadata": {},
   "source": [
    "### 실전문제 : 큰 수의 법칙\n",
    "\n",
    "다양한 수로 이루어진 배열이 있을 때 주어진 수들을 M번 더하여 가장 큰 수를 만드는 법칙  \n",
    "단, 배열의 특정 인덱스에 해당하는 수가 연속해서 K번을 초과하여 더해질 수 없음  \n",
    "\n",
    "\n",
    "<입력조건>  \n",
    "- 첫 째 줄에 N(2 <= N <= 1000), M(1 <= M <= 10000), K(1 <= K <= 10000)의 자연수가 공백 기준으로 제공\n",
    "- 둘 째 줄에 N개의 자연수가 공백 기준으로 주어짐\n",
    "- K <= M\n",
    "\n",
    "  \n",
    "<출력조건>  \n",
    "- 첫 째 줄에 큰 수의 법칙에 따라 더해진 답 출력"
   ]
  },
  {
   "cell_type": "code",
   "execution_count": 3,
   "metadata": {},
   "outputs": [
    {
     "name": "stdout",
     "output_type": "stream",
     "text": [
      "46\n",
      "소요시간 : 0.0\n"
     ]
    }
   ],
   "source": [
    "#N = int(input(\"input N M K : \"))\n",
    "inputs = \"\"\"5 8 3\n",
    "2 4 5 4 6\"\"\"\n",
    "s = time.time()\n",
    "\n",
    "##########\n",
    "\n",
    "# 입력\n",
    "\n",
    "line1, line2 = inputs.split('\\n')\n",
    "N, M, K = [int(n) for n in line1.split()]\n",
    "nlist = [int(n) for n in line2.split()]\n",
    "\n",
    "\n",
    "# 풀이\n",
    "\n",
    "nlist.sort()\n",
    "\n",
    "relist = [nlist[-2] if (n+1)%(K+1) == 0 else nlist[-1] for n in range(M)]\n",
    "result = sum(relist)\n",
    "\n",
    "\n",
    "# 출력\n",
    "\n",
    "print(result)\n",
    "\n",
    "##########\n",
    "\n",
    "e = time.time()\n",
    "\n",
    "print(\"소요시간 :\", e - s)"
   ]
  },
  {
   "cell_type": "markdown",
   "metadata": {},
   "source": [
    "### 실전 문제 : 숫자 카드 게임\n",
    "\n",
    "1. 숫자가 쓰인 카드들이 N * M 형태로 놓여있다.\n",
    "2. 먼저 뽑고자 하는 카드가 포함된 행을 선택\n",
    "3. 그 다음 선택된 해에 포함된 카드들 중 가장 숫자가 낮은 카드 뽑는다.\n",
    "4. 최종적으로 가장 높은 숫자의 카드를 뽑을 수 있도록 전략을 세워야 함\n",
    "\n",
    "<입력조건>\n",
    "- 첫 째 줄에 숫자 카드들이 놓인 행의 개수 N과 열의 개수 M이 공백 기준으로 주어짐\n",
    "- 둘 째 줄부터 N개의 줄에 걸쳐 각 카드에 적힌 숫자가 주어지며 각 숫자는 1이상 10000이하의 자연수\n",
    "\n",
    "<출력조건>\n",
    "- 첫 째 줄에 게임의 룰에 맞게 선택한 카드에 적힌 숫자를 출력"
   ]
  },
  {
   "cell_type": "code",
   "execution_count": 9,
   "metadata": {},
   "outputs": [
    {
     "name": "stdout",
     "output_type": "stream",
     "text": [
      "[1, 3]\n",
      "3\n",
      "소요시간 : 0.000997304916381836\n"
     ]
    }
   ],
   "source": [
    "input1 = \"\"\"3 3\n",
    "3 1 2\n",
    "4 1 4\n",
    "2 2 2\"\"\"\n",
    "\n",
    "input2 = \"\"\"2 4\n",
    "7 3 1 8\n",
    "3 3 3 4\"\"\"\n",
    "s = time.time()\n",
    "\n",
    "##########\n",
    "\n",
    "# 입력\n",
    "\n",
    "lines = input2.split('\\n')\n",
    "N, M = [int(n) for n in lines[0].split()]\n",
    "\n",
    "nlist = []\n",
    "\n",
    "for i, line in enumerate(lines):\n",
    "    if i == 0:\n",
    "        continue\n",
    "    \n",
    "    nlist.append([int(n) for n in line.split()])\n",
    "\n",
    "\n",
    "# 풀이\n",
    "\n",
    "mlist = []\n",
    "\n",
    "for line in nlist:\n",
    "    mlist.append(min(line))\n",
    "\n",
    "print(mlist)\n",
    "    \n",
    "\n",
    "# 출력\n",
    "print(result)\n",
    "    \n",
    "##########\n",
    "\n",
    "e = time.time()\n",
    "\n",
    "print(\"소요시간 :\", e - s)"
   ]
  },
  {
   "cell_type": "markdown",
   "metadata": {},
   "source": [
    "### 실전 문제 : 1이 될 때까지\n",
    "\n",
    "N이 1이 될 때까지 두 과정 중 하나를 반복적으로 선택하여 수행  \n",
    "단, 두 번째 연산은 N이 K로 나누어 떨어질 때만 선택 가능\n",
    "\n",
    "1. N - 1\n",
    "2. N / K\n",
    "\n",
    "N과 K가 주어질 때 N이 1이 될 때까지 1번 혹은 2번의 과정을 수행하는 최소 횟수?\n",
    "\n",
    "<입력조건>\n",
    "- 첫 째 줄에 N(2 <= N <= 100000)과 K(2 <= K <= 100000)가 공백으로 구분되어 주어지며 N >= K\n",
    "\n",
    "<출력조건>\n",
    "- 첫 째 줄에 N이 1이 될 때까지 수행하는 횟수의 최솟값 출력"
   ]
  },
  {
   "cell_type": "code",
   "execution_count": 16,
   "metadata": {},
   "outputs": [
    {
     "name": "stdout",
     "output_type": "stream",
     "text": [
      "25\n",
      "5\n",
      "2\n",
      "소요시간 : 0.0010023117065429688\n"
     ]
    }
   ],
   "source": [
    "#N = int(input(\"input N M K : \"))\n",
    "input1 = \"25 5\"\n",
    "s = time.time()\n",
    "\n",
    "##########\n",
    "\n",
    "# 입력\n",
    "\n",
    "N, K = (int(n) for n in input1.split())\n",
    "\n",
    "\n",
    "# 풀이\n",
    "\n",
    "cnt = 0\n",
    "\n",
    "while N != 1:\n",
    "    if N % K == 0:\n",
    "        N //= K\n",
    "        \n",
    "    else:\n",
    "        N -= 1\n",
    "    \n",
    "    cnt += 1\n",
    "    \n",
    "\n",
    "# 출력\n",
    "print(cnt)\n",
    "    \n",
    "##########\n",
    "\n",
    "e = time.time()\n",
    "\n",
    "print(\"소요시간 :\", e - s)"
   ]
  },
  {
   "cell_type": "code",
   "execution_count": null,
   "metadata": {},
   "outputs": [],
   "source": [
    "input1 = \n",
    "s = time.time()\n",
    "\n",
    "##########\n",
    "\n",
    "# 입력\n",
    "\n",
    "\n",
    "\n",
    "\n",
    "# 풀이\n",
    "\n",
    "\n",
    "    \n",
    "\n",
    "# 출력\n",
    "print(result)\n",
    "    \n",
    "##########\n",
    "\n",
    "e = time.time()\n",
    "\n",
    "print(\"소요시간 :\", e - s)"
   ]
  }
 ],
 "metadata": {
  "kernelspec": {
   "display_name": "Python 3",
   "language": "python",
   "name": "python3"
  },
  "language_info": {
   "codemirror_mode": {
    "name": "ipython",
    "version": 3
   },
   "file_extension": ".py",
   "mimetype": "text/x-python",
   "name": "python",
   "nbconvert_exporter": "python",
   "pygments_lexer": "ipython3",
   "version": "3.8.3"
  }
 },
 "nbformat": 4,
 "nbformat_minor": 4
}
