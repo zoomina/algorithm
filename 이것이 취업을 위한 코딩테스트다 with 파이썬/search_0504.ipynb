{
 "cells": [
  {
   "cell_type": "code",
   "execution_count": 1,
   "metadata": {},
   "outputs": [],
   "source": [
    "import time"
   ]
  },
  {
   "cell_type": "markdown",
   "metadata": {},
   "source": [
    "## 실전문제 : 부품찾기\n",
    "\n",
    "부품이 N개 있고, 각 부품은 정수 형태의 고유 번호가 있음  \n",
    "M개 종류의 부품을 모두 확인해서 견적서 작성  \n",
    "가게 안에 부품이 모두 있는지 확인하는 프로그램 작성  \n",
    "\n",
    "<입력조건>\n",
    "- 첫 째 줄에 정수 N (1 <= N <= 1000000)\n",
    "- 둘 째 줄에 공백 기준으로 N개의 정수 ( 정수는 1 ~ 1000000 )\n",
    "- 셋 째 줄에 정수 M ( 1 <= M <= 1000000 )\n",
    "- 넷 째 줄에 공백 기준으로 M개의 정수 ( 정수는 1 ~ 1000000 )\n",
    "\n",
    "<출력조건>\n",
    "- 첫 째 줄에 공백 기준으로 부품이 존재하면 yes, 아니면 no 출력"
   ]
  },
  {
   "cell_type": "code",
   "execution_count": 2,
   "metadata": {},
   "outputs": [
    {
     "name": "stdout",
     "output_type": "stream",
     "text": [
      "no yes yes\n",
      "0.000997781753540039\n"
     ]
    }
   ],
   "source": [
    "input1 = \"\"\"5\n",
    "8 3 7 9 2\n",
    "3\n",
    "5 7 9\"\"\"\n",
    "\n",
    "s = time.time()\n",
    "\n",
    "# input\n",
    "lines = input1.split(\"\\n\")\n",
    "N, M = int(lines[0]), int(lines[2])\n",
    "nlist = [int(n) for n in lines[1].split()]\n",
    "mlist = [int(n) for n in lines[3].split()]\n",
    "\n",
    "# solution\n",
    "result = []\n",
    "for m in mlist:\n",
    "    if m in nlist:\n",
    "        result.append(\"yes\")\n",
    "    else:\n",
    "        result.append(\"no\")\n",
    "\n",
    "# output\n",
    "print(\" \".join(result))\n",
    "\n",
    "e = time.time()\n",
    "\n",
    "print(e-s)"
   ]
  },
  {
   "cell_type": "markdown",
   "metadata": {},
   "source": [
    "## 실전 문제 : 떡볶이 떡 만들기\n",
    "\n",
    "길이가 제각각인 떡볶이 떡을 한 봉지에 넣기 위해서는 절단기에 높이(H)를 지정해 절단한다.  \n",
    "절단기보다 짧은 떡은 잘리지 않고, 긴 떡은 잘리는데, 이때 잘리고 남은 부분을 손님이 가져간다.  \n",
    "손님이 총 길이를 M으로 요청할 때, 적어도 M만큼의 떡을 얻기 위해 절단기에 설정할 수 있는 최대 H는?  \n",
    "\n",
    "<입력조건>\n",
    "- 첫째 줄에 떡의 개수 N과 요청한 길이 M이 주어진다. (1 <= N <= 1000000, 1 <= M <= 2000000000)\n",
    "- 둘째 줄에 떡의 개별 높이가 주어진다. 떡의 높이의 총합은 항상 M 이상이다. 높이는 0부터 10억까지의 정수이다.\n",
    "\n",
    "<출력조건>\n",
    "- 적어도 M을 집에 가져가기 위해 설정할 수 있는 최대 H값"
   ]
  },
  {
   "cell_type": "code",
   "execution_count": 3,
   "metadata": {},
   "outputs": [
    {
     "name": "stdout",
     "output_type": "stream",
     "text": [
      "15\n",
      "0.0\n"
     ]
    }
   ],
   "source": [
    "input1 = \"\"\"4 6\n",
    "19 15 10 17\"\"\"\n",
    "\n",
    "s = time.time()\n",
    "\n",
    "# input\n",
    "lines = input1.split(\"\\n\")\n",
    "N, M = (int(n) for n in lines[0].split())\n",
    "nlist = [int(n) for n in lines[1].split()]\n",
    "\n",
    "# solution\n",
    "md, Md = 0, max(nlist)\n",
    "\n",
    "result = 0\n",
    "while (md <= Md):\n",
    "    H = (md+Md)//2\n",
    "    rest = sum([n-H if n > H else 0 for n in nlist])\n",
    "    \n",
    "    # 잘린 조각이 M : 탈출조건\n",
    "    if rest == M:\n",
    "        result = H\n",
    "        break\n",
    "    # M보다 많이 남음\n",
    "    elif rest > M:\n",
    "        md = H\n",
    "    # M보다 적게 남음\n",
    "    else:\n",
    "        result = H\n",
    "        Md = H\n",
    "\n",
    "# output\n",
    "\n",
    "print(H)\n",
    "\n",
    "e = time.time()\n",
    "\n",
    "print(e-s)"
   ]
  },
  {
   "cell_type": "code",
   "execution_count": null,
   "metadata": {},
   "outputs": [],
   "source": []
  }
 ],
 "metadata": {
  "kernelspec": {
   "display_name": "Python 3",
   "language": "python",
   "name": "python3"
  },
  "language_info": {
   "codemirror_mode": {
    "name": "ipython",
    "version": 3
   },
   "file_extension": ".py",
   "mimetype": "text/x-python",
   "name": "python",
   "nbconvert_exporter": "python",
   "pygments_lexer": "ipython3",
   "version": "3.8.3"
  }
 },
 "nbformat": 4,
 "nbformat_minor": 4
}
