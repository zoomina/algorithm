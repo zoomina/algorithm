{
 "cells": [
  {
   "cell_type": "code",
   "execution_count": 1,
   "metadata": {},
   "outputs": [],
   "source": [
    "import time"
   ]
  },
  {
   "cell_type": "markdown",
   "metadata": {},
   "source": [
    "## 실전문제 : 1로 만들기\n",
    "\n",
    "a : X가 5로 나누어 떨어지면 5로 나눈다  \n",
    "b : X가 3로 나누어 떨어지면 3로 나눈다  \n",
    "c : X가 2로 나누어 떨어지면 2로 나눈다  \n",
    "d : 1을 뺀다  \n",
    "\n",
    "연산을 사용하는 횟수의 최솟값 출력  \n",
    "\n",
    "<입력조건>\n",
    "- 첫 째 줄에 정수 X 주어짐 ( 1 <= X <= 30000 )\n",
    "\n",
    "<출력조건>\n",
    "- 첫 째 줄에 연산 횟수 최솟값 출력"
   ]
  },
  {
   "cell_type": "code",
   "execution_count": 2,
   "metadata": {},
   "outputs": [
    {
     "name": "stdout",
     "output_type": "stream",
     "text": [
      "3\n",
      "0.0009958744049072266\n"
     ]
    }
   ],
   "source": [
    "input1 = \"26\"\n",
    "\n",
    "s = time.time()\n",
    "\n",
    "# input\n",
    "X = int(input1)\n",
    "\n",
    "# solution\n",
    "onelist = []\n",
    "def cal(X, cnt):\n",
    "    # 기저조건 : X가 1이 됨\n",
    "    if X == 1:\n",
    "        onelist.append(cnt)\n",
    "        return\n",
    "\n",
    "    if X%5 == 0:    # a\n",
    "        cal(X/5, cnt+1)\n",
    "        \n",
    "    if X%3 == 0:    #b\n",
    "        cal(X/3, cnt+1)\n",
    "\n",
    "    if X%2 == 0:    #c\n",
    "        cal(X/2, cnt+1)\n",
    "\n",
    "    cal(X-1, cnt+1) #d\n",
    "\n",
    "# output\n",
    "cal(X, 0)\n",
    "print(min(onelist))\n",
    "\n",
    "e = time.time()\n",
    "\n",
    "print(e-s)"
   ]
  },
  {
   "cell_type": "markdown",
   "metadata": {},
   "source": [
    "## 실전문제 : 개미 전사\n",
    "\n",
    "개미 전사가 메뚜기 마을의 식량창고를 몰래 공격하는데, 식량창고는 일직선으로 이어져있다.  \n",
    "각 창고는 정해진 수의 식량을 저장하고 있으며, 선택적으로 약탈하여 식량을 빼앗는다.  \n",
    "정찰병은 인접 창고가 공격받으면 알아챌 수 있으므로 최소 한 칸 이상 떨어진 식량창고를 약탈해야 한다.  \n",
    "\n",
    "<입력조건>\n",
    "- 첫 째 줄에 식량창고의 개수 N이 주어짐 ( 3 <= N <= 100 )\n",
    "- 둘 째 줄에 공백 기준 식량 개수 K가 주어짐 ( 0 <= K <= 1,000 )\n",
    "\n",
    "<출력조건>\n",
    "- 첫 째 줄에 개미 전사가 얻을 수 있는 식량의 최댓값 출력"
   ]
  },
  {
   "cell_type": "code",
   "execution_count": 3,
   "metadata": {},
   "outputs": [
    {
     "name": "stdout",
     "output_type": "stream",
     "text": [
      "8\n",
      "0.0\n"
     ]
    }
   ],
   "source": [
    "input1 = \"\"\"4\n",
    "1 3 1 5\"\"\"\n",
    "\n",
    "s = time.time()\n",
    "# input\n",
    "lines = input1.split(\"\\n\")\n",
    "N = int(lines[0])\n",
    "klist = [int(k) for k in lines[1].split()]\n",
    "\n",
    "# solution\n",
    "flist = []\n",
    "def attack(idx, food):\n",
    "    # 기저조건 : 창고 번호 뒤에서 1, 2번째\n",
    "    if idx >= N-2:\n",
    "        flist.append(food+klist[idx])\n",
    "        return\n",
    "    \n",
    "    attack(idx+2, food+klist[idx])  # 이번 창고를 털면 다다음 창고를 털 수 있다.\n",
    "    attack(idx+1, food)             # 이번 창고를 털지 않고 다음 창고를 턴다.\n",
    "\n",
    "# output\n",
    "attack(0, 0)\n",
    "print(max(flist))\n",
    "\n",
    "e = time.time()\n",
    "\n",
    "print(e-s)"
   ]
  },
  {
   "cell_type": "markdown",
   "metadata": {},
   "source": [
    "## 실전문제 : 바닥 공사\n",
    "\n",
    "가로 길이가 N, 세로 길이가 2인 직사각형 바닥을 1*2, 2*1, 2*2의 덮개로 채운다.  \n",
    "모든 경우의 수를 구하는 프로그램 작성  \n",
    "\n",
    "<입력조건>\n",
    "- 첫 째 줄에 N이 주어진다. (1 <= N <= 1000)\n",
    "\n",
    "<출력조건>\n",
    "- 경우의 수를 796796으로 나눈 나머지 출력"
   ]
  },
  {
   "cell_type": "code",
   "execution_count": 4,
   "metadata": {},
   "outputs": [
    {
     "name": "stdout",
     "output_type": "stream",
     "text": [
      "5\n",
      "0.0\n"
     ]
    }
   ],
   "source": [
    "input1 = \"3\"\n",
    "\n",
    "s = time.time()\n",
    "\n",
    "# input\n",
    "N = int(input1)\n",
    "\n",
    "# solution\n",
    "tlist = []\n",
    "def tile(w, ntile):\n",
    "    # 기저조건 : 나머지 너비 1 or 2\n",
    "    if w == 1:\n",
    "        tlist.append(ntile+1)    # 1*2\n",
    "        return\n",
    "    elif w == 2:\n",
    "        tile(w-1, ntile+1)\n",
    "        tlist.append(ntile+1)    # 2*2\n",
    "        tlist.append(ntile+2)    # 2*1\n",
    "        return\n",
    "    \n",
    "    tile(w-1, ntile+1)    # 1*2\n",
    "    tile(w-2, ntile+1)    # 2*2\n",
    "    tile(w-2, ntile+2)    # 2*1\n",
    "    \n",
    "# output\n",
    "tile(N, 0)\n",
    "print(len(tlist)%796796)\n",
    "\n",
    "e = time.time()\n",
    "\n",
    "print(e-s)"
   ]
  },
  {
   "cell_type": "markdown",
   "metadata": {},
   "source": [
    "## 효율적인 화폐구성\n",
    "\n",
    "N가지 종류의 화폐가 있는데, 개수를 최소한으로 이용해서 합이 M원이 되도록 한다.  \n",
    "순서는 고려하지 않는다.  \n",
    "\n",
    "<입력조건>\n",
    "- 첫 째 줄에 N, M이 주어짐 (1 <= N <= 100, 1 <= M <= 1000)\n",
    "- 이후 N개의 줄에 100000 이하의 자연수 화폐가 주어짐\n",
    "\n",
    "<출력조건>\n",
    "- 첫 째 줄에 M원을 만들기 위한 최소한의 화폐 개수 출력\n",
    "- 불가능하면 -1 출력"
   ]
  },
  {
   "cell_type": "code",
   "execution_count": 5,
   "metadata": {},
   "outputs": [
    {
     "name": "stdout",
     "output_type": "stream",
     "text": [
      "-1\n",
      "0.0009975433349609375\n"
     ]
    }
   ],
   "source": [
    "input1 = \"\"\"2 15\n",
    "2\n",
    "3\"\"\"\n",
    "\n",
    "input2 = \"\"\"3 4\n",
    "3\n",
    "5\n",
    "7\"\"\"\n",
    "\n",
    "s = time.time()\n",
    "\n",
    "# input\n",
    "#lines = input1.split(\"\\n\")\n",
    "lines = input2.split(\"\\n\")\n",
    "N, M = (int(n) for n in lines[0].split())\n",
    "coins = [int(c) for c in lines[1:]]\n",
    "\n",
    "# solution\n",
    "clist = []\n",
    "def calc(remains, cnum):\n",
    "    # 기저조건 : M원 달성 혹은 불가능\n",
    "    if remains == 0:           # M원 달성\n",
    "        clist.append(cnum)\n",
    "        return\n",
    "    elif remains < min(coins): # M원 불가능\n",
    "        return\n",
    "    \n",
    "    for c in coins:\n",
    "        if c <= remains:\n",
    "            calc(remains-c, cnum+1)\n",
    "\n",
    "# output\n",
    "calc(M, 0)\n",
    "if len(clist) == 0:\n",
    "    print(-1)\n",
    "else:\n",
    "    print(min(clist))\n",
    "\n",
    "e = time.time()\n",
    "\n",
    "print(e-s)"
   ]
  },
  {
   "cell_type": "code",
   "execution_count": null,
   "metadata": {},
   "outputs": [],
   "source": []
  }
 ],
 "metadata": {
  "kernelspec": {
   "display_name": "Python 3",
   "language": "python",
   "name": "python3"
  },
  "language_info": {
   "codemirror_mode": {
    "name": "ipython",
    "version": 3
   },
   "file_extension": ".py",
   "mimetype": "text/x-python",
   "name": "python",
   "nbconvert_exporter": "python",
   "pygments_lexer": "ipython3",
   "version": "3.8.3"
  }
 },
 "nbformat": 4,
 "nbformat_minor": 4
}
