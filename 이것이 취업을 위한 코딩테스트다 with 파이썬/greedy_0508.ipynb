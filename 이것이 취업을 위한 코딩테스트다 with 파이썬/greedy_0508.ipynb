{
 "metadata": {
  "language_info": {
   "codemirror_mode": {
    "name": "ipython",
    "version": 3
   },
   "file_extension": ".py",
   "mimetype": "text/x-python",
   "name": "python",
   "nbconvert_exporter": "python",
   "pygments_lexer": "ipython3",
   "version": "3.6.5"
  },
  "orig_nbformat": 2,
  "kernelspec": {
   "name": "python365jvsc74a57bd08560c6f65dca339f98697713dfd6cbbd744752ef01026816cff2bb6917db482f",
   "display_name": "Python 3.6.5 32-bit"
  },
  "metadata": {
   "interpreter": {
    "hash": "8560c6f65dca339f98697713dfd6cbbd744752ef01026816cff2bb6917db482f"
   }
  }
 },
 "nbformat": 4,
 "nbformat_minor": 2,
 "cells": [
  {
   "cell_type": "code",
   "execution_count": 1,
   "metadata": {},
   "outputs": [],
   "source": [
    "import time"
   ]
  },
  {
   "source": [
    "## 01 모험가 길드\n",
    "\n",
    "모험가가 N명 있는데, 길드에서 이들을 대상으로 공포도를 측정했다.  \n",
    "공포도가 높은 모험가는 공포를 쉽게 느껴 위험 상황에서 대처능력이 떨어진다.  \n",
    "안전한 모험을 위해 공포도가 X인 모험가는 반드시 X명 이상으로 구성한 모험가 그룹에 참여해야 여행을 떠날 수 있다.  \n",
    "최대 몇 개의 모험가 그룹을 만들 수 있는가?  \n",
    "\n",
    "<입력 조건>\n",
    "- 첫 째 줄에 모험가의 수 N이 주어진다.\n",
    "- 둘 째 줄에 각 모험가의 공포도가 공백기준으로 자연수 N개 주어진다.\n",
    "\n",
    "<출력 조건>\n",
    "- 여행을 떠날 수 있는 그룹 수의 최댓값 출력"
   ],
   "cell_type": "markdown",
   "metadata": {}
  },
  {
   "cell_type": "code",
   "execution_count": 2,
   "metadata": {},
   "outputs": [
    {
     "output_type": "stream",
     "name": "stdout",
     "text": [
      "2\n0.0010044574737548828\n"
     ]
    }
   ],
   "source": [
    "input1 = \"\"\"5\n",
    "3 2 1 2 2\"\"\"\n",
    "\n",
    "s = time.time()\n",
    "\n",
    "# input\n",
    "lines = input1.split(\"\\n\")\n",
    "N = int(lines[0])\n",
    "fear_list = [int(f) for f in lines[1].split()]\n",
    "\n",
    "# solution\n",
    "fear_list.sort()\n",
    "cnt = 0\n",
    "while fear_list:\n",
    "    if max(fear_list) > len(fear_list):\n",
    "        break\n",
    "\n",
    "    size = fear_list[0]\n",
    "    group = fear_list[:size]\n",
    "\n",
    "    while group[-1] > len(group):\n",
    "        size = fear_list[size]\n",
    "        group = fear_list[:size]\n",
    "    \n",
    "    fear_list = fear_list[size:]\n",
    "    cnt += 1\n",
    "\n",
    "print(cnt)\n",
    "\n",
    "e = time.time()\n",
    "print(e-s)"
   ]
  },
  {
   "source": [
    "## 02 곱하기 혹은 더하기\n",
    "\n",
    "각 자리가 숫자(0~9)로만 이루어진 문자열 S가 주어졌을 때, 왼쪽부터 오른쪽으로 하나씩 모든 숫자를 확인하며 숫자 사이에 * 혹은 + 연산자를 넣어 결과적으로 만들 수 있는 가장 큰 수를 구하는 프로그램 작성  \n",
    "모든 연산은 왼쪽에서부터 순서대로 이루어진다.  \n",
    "\n",
    "<입력 조건>\n",
    "- 첫 째 줄에 여러 개의 숫자로 구성된 하나의 문자열 S가 주어진다.(1 <= len(S) <= 20)\n",
    "\n",
    "<출력 조건>\n",
    "- 첫 째 줄에 만들어질 수 있는 가장 큰 정수 출력"
   ],
   "cell_type": "markdown",
   "metadata": {}
  },
  {
   "cell_type": "code",
   "execution_count": 3,
   "metadata": {},
   "outputs": [
    {
     "output_type": "stream",
     "name": "stdout",
     "text": [
      "576\n0.0\n"
     ]
    }
   ],
   "source": [
    "input1 = \"02984\"\n",
    "input2 = \"567\"\n",
    "\n",
    "s = time.time()\n",
    "\n",
    "# input\n",
    "nlist = [int(n) for n in input1]\n",
    "\n",
    "re = nlist[0]\n",
    "for x in nlist[1:]:\n",
    "    re = max(re*x, re+x)\n",
    "\n",
    "print(re)\n",
    "\n",
    "e = time.time()\n",
    "print(e-s)"
   ]
  },
  {
   "source": [
    "## 03 문자열 뒤집기\n",
    "\n",
    "0과 1로만 이루어진 문자열 S를 전부 같게 만들려고 한다.  \n",
    "할 수 있는 행동은 연속된 하나 이상의 숫자를 잡고 모두 뒤집는 것(0->1 / 1->0)  \n",
    "최소 행동의 횟수 출력  \n",
    "\n",
    "<입력 조건>\n",
    "- 첫 째 줄에 0과 1로만 이루어진 문자열 S가 100만 이하의 길이로 주어짐\n",
    "\n",
    "<출력 조건>\n",
    "- 첫 째 줄에 최소 행동의 횟수 출력 "
   ],
   "cell_type": "markdown",
   "metadata": {}
  },
  {
   "cell_type": "code",
   "execution_count": 4,
   "metadata": {},
   "outputs": [
    {
     "output_type": "stream",
     "name": "stdout",
     "text": [
      "3\n0.0\n"
     ]
    }
   ],
   "source": [
    "input1 = \"0001100\"\n",
    "input2 = \"00111011010\"\n",
    "\n",
    "s = time.time()\n",
    "\n",
    "# input\n",
    "nlist = [int(n) for n in input2]\n",
    "# cnt 0/1 group\n",
    "group0 = 0\n",
    "group1 = 0\n",
    "old = nlist[0]\n",
    "for n in nlist[1:]:\n",
    "    if n != old:\n",
    "        if old == 0:\n",
    "            group0 += 1\n",
    "        elif old == 1:\n",
    "            group1 += 1\n",
    "    old = n\n",
    "\n",
    "print(min(group0, group1))\n",
    "\n",
    "e = time.time()\n",
    "print(e-s)"
   ]
  },
  {
   "source": [
    "## 05 볼링공 고르기\n",
    "\n",
    "두 사람이 서로 무게가 다른 볼링공을 고르려고 한다.  \n",
    "공 번호는 1부터 N까지 순서대로 부여되며, 무게는 1부터 M까지 자연수의 형태  \n",
    "두 사람이 볼링공을 고르는 경우의 수를 구하는 프로그램 작성  \n",
    "\n",
    "<입력 조건>\n",
    "- 첫 째 줄에 볼링공의 개수 N, 최대 무게 M이 공백 기준으로 주어짐 (1 <= N <= 1000, 1 <= M <= 10)\n",
    "- 둘 째 줄에 각 볼링공의 무게 K가 공백 기준으로 자연수의 형태로 주어짐 (1 <= K <= M)\n",
    "\n",
    "<출력 조건>\n",
    "- 첫 째 줄에 두 사람이 볼링공을 고르는 경우의 수 출력\n",
    "\n",
    "\n",
    "??) 두 사람이 고르는건데 순서가 바뀐 것을 같은 경우로 보는지 (ex: (1, 2) == (2, 1)) 잘 모르겠지만, 예시로 나온 케이스에서는 순서가 바뀐 쌍을 세지 않음"
   ],
   "cell_type": "markdown",
   "metadata": {}
  },
  {
   "cell_type": "code",
   "execution_count": 5,
   "metadata": {},
   "outputs": [
    {
     "output_type": "stream",
     "name": "stdout",
     "text": [
      "25\n0.0\n"
     ]
    }
   ],
   "source": [
    "input1 = \"\"\"5 3\n",
    "1 3 2 3 2\"\"\"\n",
    "input2 = \"\"\"8 5\n",
    "1 5 4 3 2 4 5 2\"\"\"\n",
    "\n",
    "s = time.time()\n",
    "\n",
    "# input\n",
    "lines = input2.split(\"\\n\")\n",
    "N, M = (int(n) for n in lines[0].split())\n",
    "klist = [int(k) for k in lines[1].split()]\n",
    "\n",
    "# solution\n",
    "case_list = []\n",
    "for i, a in enumerate(klist):\n",
    "    for b in klist[i+1:]:\n",
    "        if a != b:\n",
    "            case_list.append((a, b))\n",
    "\n",
    "print(len(case_list))\n",
    "\n",
    "e = time.time()\n",
    "print(e-s)"
   ]
  },
  {
   "cell_type": "code",
   "execution_count": null,
   "metadata": {},
   "outputs": [],
   "source": []
  }
 ]
}