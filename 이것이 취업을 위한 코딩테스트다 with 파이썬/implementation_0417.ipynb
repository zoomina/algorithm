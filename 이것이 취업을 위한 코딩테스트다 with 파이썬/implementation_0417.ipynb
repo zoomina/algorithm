{
 "cells": [
  {
   "cell_type": "markdown",
   "metadata": {},
   "source": [
    "## 예제 4-1 상하좌우\n",
    "\n",
    "\n",
    "A는 N * N 크기의 정사각형 공간 위에 서있고, 이 공간은 1*1 크기의 정사각형으로 나누어져 있다.  \n",
    "가장 왼쪽 위의 좌표는 (1, 1), 가장 오른쪽 아래 좌표는 (N, N)  \n",
    "계획서에는 공백 기준으로 L, R, U, D 중 하나의 문자가 반복적으로 적혀있으며, 이는 A의이동 계획이다.  \n",
    "A가 공간을 벗어나는 움직임은 무시된다.  \n",
    "\n",
    "<입력조건>  \n",
    "- 첫 째 줄에 공간의 크기를 나타내는 N(1 <= N<= 100)이 주어진다.\n",
    "- 둘 째 줄에 계획서 내용이 주어진다. (1 <= 이동횟수 <= 100)\n",
    "\n",
    "<출력조건>  \n",
    "- 첫 째 줄에 A가최종적으로 도착할 지점의 좌표 (X,Y)를 공백으로 구분하여 출력\n"
   ]
  },
  {
   "cell_type": "code",
   "execution_count": 1,
   "metadata": {},
   "outputs": [],
   "source": [
    "import time\n",
    "\n",
    "input1 = \"\"\"5\n",
    "R R R U D D\"\"\"\n"
   ]
  },
  {
   "cell_type": "code",
   "execution_count": 2,
   "metadata": {},
   "outputs": [
    {
     "name": "stdout",
     "output_type": "stream",
     "text": [
      "3 4\n",
      "실행시간 : 0.0009968280792236328\n"
     ]
    }
   ],
   "source": [
    "s = time.time()\n",
    "\n",
    "# input\n",
    "\n",
    "N, line2 = input1.split(\"\\n\")\n",
    "N = int(N)\n",
    "\n",
    "plan = line2.split()\n",
    "\n",
    "\n",
    "# solution\n",
    "\n",
    "x, y = 1, 1\n",
    "\n",
    "for p in plan:\n",
    "\tif p == \"R\":\n",
    "\t\ty += 1\n",
    "\telif p == \"L\":\n",
    "\t\ty -= 1\n",
    "\telif p == \"U\":\n",
    "\t\tx -= 1\n",
    "\telif p == \"D\":\n",
    "\t\tx += 1\n",
    "\telse:\n",
    "\t\tprint(\"wrong input\")\n",
    "\t\n",
    "\t# 칸을 벗어나는 case는 무효처리\n",
    "\tif x <= 0:\n",
    "\t\tx += 1\n",
    "\t\t\n",
    "\telif y <= 0:\n",
    "\t\ty += 1\n",
    "\n",
    "\n",
    "# result\n",
    "print(x, y)\n",
    "\n",
    "e = time.time()\n",
    "\n",
    "print(\"실행시간 :\", e-s)"
   ]
  },
  {
   "cell_type": "markdown",
   "metadata": {},
   "source": [
    "## 예제 4-2 시각\n",
    "\n",
    "정수 N이입력되면 00시 00분 00초부터 N시 59분 59초까지의 모든 시각 중에서 3이 하나라도 포함되는 경우의 수를 구하는 프로그램을 작성  \n",
    "\n",
    "<입력조건>  \n",
    "- 첫 째 줄에 정수 N(0 <= N <= 23)이 입력\n",
    "\n",
    "<출력조건>  \n",
    "- 경우의 수 출력\n"
   ]
  },
  {
   "cell_type": "code",
   "execution_count": 3,
   "metadata": {},
   "outputs": [],
   "source": [
    "import time\n",
    "\n",
    "input1 = \"5\"\n",
    "\n"
   ]
  },
  {
   "cell_type": "code",
   "execution_count": 4,
   "metadata": {},
   "outputs": [
    {
     "name": "stdout",
     "output_type": "stream",
     "text": [
      "11475\n",
      "실행시간 : 1619524372.3417335\n"
     ]
    }
   ],
   "source": [
    "s = time.time()\n",
    "\n",
    "# input\n",
    "\n",
    "N = int(input1)\n",
    "\n",
    "\n",
    "# solution\n",
    "\n",
    "cnt = 0\n",
    "\n",
    "for h in range(N+1):\n",
    "\tfor m in range(60):\n",
    "\t\tfor s in range(60):\n",
    "\t\t\ttstr = str(h) + str(m) + str(s)\n",
    "\t\t\tif \"3\" in tstr:\n",
    "\t\t\t\tcnt += 1\n",
    "\n",
    "\n",
    "# result\n",
    "\n",
    "print(cnt)\n",
    "\n",
    "e = time.time()\n",
    "\n",
    "print(\"실행시간 :\", e-s)"
   ]
  },
  {
   "cell_type": "markdown",
   "metadata": {},
   "source": [
    "## 실전 문제 : 왕실의 나이트\n",
    "\n",
    "8 * 8 좌표 위 특정 칸에 나이트가 서 있다.  \n",
    "행은 숫자(1-8), 열은 알파벳(a-h)으로 주어진다.  \n",
    "\n",
    "나이트는 두 가지 경우로 이동할 수 있다.  \n",
    "\n",
    "1. 수평으로 두 칸 이동 후 수직으로 한 칸 이동  \n",
    "2. 수직으로 두 칸 이동 후 수평으로 한 칸 이동  \n",
    "\n",
    "나이트가 이동할 수 있는 경우의 수를 출력하는 프로그램 작성  \n",
    "\n",
    "<입력조건>  \n",
    "- 첫 째 줄에 나이트의 위치 입력\n",
    "\n",
    "<출력조건>  \n",
    "- 경우의 수 출력\n"
   ]
  },
  {
   "cell_type": "code",
   "execution_count": 5,
   "metadata": {},
   "outputs": [],
   "source": [
    "import time\n",
    "\n",
    "input1 = \"a1\"\n"
   ]
  },
  {
   "cell_type": "code",
   "execution_count": 6,
   "metadata": {},
   "outputs": [
    {
     "name": "stdout",
     "output_type": "stream",
     "text": [
      "2\n",
      "실행시간 : 0.0010266304016113281\n"
     ]
    }
   ],
   "source": [
    "s = time.time()\n",
    "\n",
    "# input\n",
    "\n",
    "xdict = {'a':1, 'b':2, 'c':3, 'd':4, 'e':5, 'f':6, 'g':7, 'h':8}\n",
    "steps = [(2, 1), (2, -1), (-2, 1), (-2, -1), (1, 2), (1, -2), (-1, 2), (-1, -2)]\n",
    "\n",
    "x, y = input1\n",
    "\n",
    "x, y = xdict[x], int(y)\n",
    "\n",
    "\n",
    "# solution\n",
    "\n",
    "cnt = 0\n",
    "\n",
    "for xs, ys in steps:\n",
    "\tif (x+xs < 1 or x+xs > 8) or (y-ys < 1 or y-ys > 8):\n",
    "\t\tcontinue\n",
    "\tcnt += 1\n",
    "\n",
    "# result\n",
    "print(cnt)\n",
    "\n",
    "e = time.time()\n",
    "\n",
    "print(\"실행시간 :\", e-s)"
   ]
  },
  {
   "cell_type": "markdown",
   "metadata": {},
   "source": [
    "## 실전 문제 : 게임 개발\n",
    "\n",
    "맵은 N * M 크기의 직사각형으로, 각 칸은 육지 혹은 바다  \n",
    "캐릭터는 동서남북 중 한 곳을 바라본다.  \n",
    "\n",
    "맵의 각 칸은 (A,B)로 나타낼 수 있고, A는 북쪽 기준 떨어진 좌표 수 B는 서쪽 기준 떨어진 좌표 수  \n",
    "캐릭터는 상하좌우로 움직일 수 있고, 바다로 갈 수 없음  \n",
    "\n",
    "1. 현재 위치에서 현재 방향을 기준으로 왼쪽 방향부터 갈 곳을 정한다.\n",
    "2. 바로 왼쪽 방향에 가보지 않은 칸이 존재한다면 왼쪽 방향으로 회전한 다음 왼쪽으로 한 칸을 전진한다. 존재하지 않는다면 왼쪽으로 회전만 한다.\n",
    "3. 네 방향이 가본 방향이거나 바다로 되어있는 경우 바라보는 방향을 유지한 채로 한 칸 뒤로 간다. 뒤가 바다라면 움직임을 멈춘다.\n",
    "\n",
    "캐릭터가 방문한 칸의 수를 출력하는 프로그램 작성  \n",
    "\n",
    "<입력조건>  \n",
    "- 첫째 줄에 N(3 <= N, M <= 50)과 M을 공백 기준으로 입력\n",
    "- 둘째 줄에 게임 캐릭터가 있는 칸의 좌표 (A,B)와 바라보는 방향 d를 공백으로 구분하여 입력 (0:북, 1:동, 2:남, 3:서)\n",
    "- 셋째 줄부터 맵이 육지인지 바다인지 입력, 테두리는 항상 바다 (0:육지, 1:바다)\n",
    "- 처음 게임 캐릭터가 위치한 칸은 항상 육지\n",
    "\n",
    "<출력조건>  \n",
    "- 캐릭터가 방문한 칸의 수 출력\n"
   ]
  },
  {
   "cell_type": "code",
   "execution_count": 8,
   "metadata": {},
   "outputs": [],
   "source": [
    "import time\n",
    "\n",
    "input1 = \"\"\"4 4\n",
    "1 1 0\n",
    "1 1 1 1\n",
    "1 0 0 1\n",
    "1 1 0 1\n",
    "1 1 1 1\"\"\"\n"
   ]
  },
  {
   "cell_type": "code",
   "execution_count": 32,
   "metadata": {},
   "outputs": [
    {
     "name": "stdout",
     "output_type": "stream",
     "text": [
      "3\n",
      "실행시간 : 0.0009970664978027344\n"
     ]
    }
   ],
   "source": [
    "s = time.time()\n",
    "\n",
    "# input\n",
    "\n",
    "lines = input1.split(\"\\n\")\n",
    "N, M = (int(n) for n in lines[0].split())\n",
    "A, B, d = (int(n) for n in lines[1].split())\n",
    "\n",
    "mstate = []\n",
    "for state in lines[2:]:\n",
    "\tmstate.append([int(s) for s in state.split()])\n",
    "\n",
    "\n",
    "# solution\n",
    "\n",
    "# 동서남북 이동방향\n",
    "ddict = {0:(-1, 0), 1:(0, 1), 2:(1, 0), 3:(0, -1)}\n",
    "\n",
    "while True:\n",
    "    valid_d = [mstate[x][y] for x, y in [(B, A-1), (B+1, A), (B, A+1), (B-1, A)]]\n",
    "    mstate[B][A] = 2\n",
    "    \n",
    "    # 네 방향이 가본 방향이거나 바다로 되어있는 경우 바라보는 방향을 유지한 채로 한 칸 뒤로 간다.\n",
    "    if 0 not in valid_d:\n",
    "        # 뒤쪽은 (d+2)%4\n",
    "        a, b = ddict[(d+2)%4]\n",
    "        \n",
    "        # 탈출조건 : 뒤가 바다\n",
    "        if mstate[B+b][A+a] == 1:\n",
    "            break\n",
    "        \n",
    "        else:\n",
    "            A += a\n",
    "            B += b\n",
    "\n",
    "    # 존재하지 않는다면 왼쪽으로 회전만 한다.\n",
    "    # 왼쪽 방향 회전은 (d+3) % 4\n",
    "    d = (d+3)%4\n",
    "    dy, dx = ddict[d]\n",
    "    \n",
    "    # 바로 왼쪽 방향에 가보지 않은 칸이 존재한다면 왼쪽 방향으로 회전한 다음 왼쪽으로 한 칸을 전진한다.\n",
    "    if mstate[B+dx][A+dy] == 0:\n",
    "        A, B = A+dy, B+dx\n",
    "\n",
    "# result\n",
    "result = sum([m.count(2) for m in mstate])\n",
    "print(result)\n",
    "e = time.time()\n",
    "\n",
    "print(\"실행시간 :\", e-s)"
   ]
  },
  {
   "cell_type": "code",
   "execution_count": null,
   "metadata": {},
   "outputs": [],
   "source": []
  }
 ],
 "metadata": {
  "kernelspec": {
   "display_name": "Python 3",
   "language": "python",
   "name": "python3"
  },
  "language_info": {
   "codemirror_mode": {
    "name": "ipython",
    "version": 3
   },
   "file_extension": ".py",
   "mimetype": "text/x-python",
   "name": "python",
   "nbconvert_exporter": "python",
   "pygments_lexer": "ipython3",
   "version": "3.8.3"
  }
 },
 "nbformat": 4,
 "nbformat_minor": 4
}
