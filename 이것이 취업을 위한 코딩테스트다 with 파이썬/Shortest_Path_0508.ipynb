{
 "metadata": {
  "language_info": {
   "codemirror_mode": {
    "name": "ipython",
    "version": 3
   },
   "file_extension": ".py",
   "mimetype": "text/x-python",
   "name": "python",
   "nbconvert_exporter": "python",
   "pygments_lexer": "ipython3",
   "version": "3.6.5"
  },
  "orig_nbformat": 2,
  "kernelspec": {
   "name": "python365jvsc74a57bd08560c6f65dca339f98697713dfd6cbbd744752ef01026816cff2bb6917db482f",
   "display_name": "Python 3.6.5 32-bit"
  },
  "metadata": {
   "interpreter": {
    "hash": "8560c6f65dca339f98697713dfd6cbbd744752ef01026816cff2bb6917db482f"
   }
  }
 },
 "nbformat": 4,
 "nbformat_minor": 2,
 "cells": [
  {
   "cell_type": "code",
   "execution_count": 4,
   "metadata": {},
   "outputs": [],
   "source": [
    "import time\n",
    "import math"
   ]
  },
  {
   "source": [
    "## 실전 문제 : 미래 도시\n",
    "\n",
    "1 ~ N까지의 회사  중 특정 회사는 도로를 통해 연결됨  \n",
    "A는 현재 1번 회사에 위치해있으며, X번 회사에 물건을 팔 예정  \n",
    "회사끼리 연결된 도로를 통해서만 이동할 수 있으며, 양방향 이동 가능하며 소요 시간은 1  \n",
    "A는 K에서 미팅을 한 뒤 X번 회사로 간다.  \n",
    "회사 사이를 이동하는 최소 시간은?\n",
    "\n",
    "<입력 조건>\n",
    "- 첫 째 줄에 전체 회사 수 N과 경로 M이 공백 기준으로 제시 (1 <= N, M <= 100)\n",
    "- 둘 째 줄부터 M+1번째 줄에 연결된 두 회사가 공백 기준으로 제시\n",
    "- M+2번째 줄에 X, K가 공백 기준으로 주어짐 (1 <= K <= 100)\n",
    "\n",
    "<출력 조건>\n",
    "- 첫 째 줄에 A가 K번 회사를 거쳐 X번 회사로 이동하는 최소 시간을 출력\n",
    "- 만약 X번 회사에 도달할 수 없다면 -1 출력"
   ],
   "cell_type": "markdown",
   "metadata": {}
  },
  {
   "cell_type": "code",
   "execution_count": 16,
   "metadata": {},
   "outputs": [
    {
     "output_type": "stream",
     "name": "stdout",
     "text": [
      "3\n0.000997304916381836\n"
     ]
    }
   ],
   "source": [
    "input1 = \"\"\"5 7\n",
    "1 2\n",
    "1 3\n",
    "1 4\n",
    "2 4\n",
    "3 4\n",
    "3 5\n",
    "4 5\n",
    "4 5\"\"\"\n",
    "input2 = \"\"\"4 2\n",
    "1 3\n",
    "2 4\n",
    "3 4\"\"\"\n",
    "\n",
    "s = time.time()\n",
    "\n",
    "# input\n",
    "lines = input1.split(\"\\n\")\n",
    "N, M = (int(n) for n in lines[0].split())\n",
    "X, K = (int(x) for x in lines[-1].split())\n",
    "graph = [[math.inf]*(N+1) for _ in range(N+1)]\n",
    "\n",
    "# 자기자신으로 가는 시간 0으로 초기화\n",
    "for i in range(1, N+1):\n",
    "    graph[i][i] = 0\n",
    "\n",
    "# 입력된 간선에 대해 초기화\n",
    "for line in lines[1:-1]:\n",
    "    i, j = (int(i) for i in line.split())\n",
    "    graph[i][j], graph[j][i] = 1, 1\n",
    "\n",
    "# 플루이드 워셜 알고리즘 수행\n",
    "for n in range(1, N+1):\n",
    "    for i in range(1, N+1):\n",
    "        for j in range(1, N+1):\n",
    "            graph[i][j] = min(graph[i][j], graph[i][n]+graph[n][j])\n",
    "\n",
    "dist = graph[1][K] + graph[K][X]\n",
    "\n",
    "if dist == math.inf:\n",
    "    print(-1)\n",
    "else:\n",
    "    print(dist)\n",
    "\n",
    "e = time.time()\n",
    "\n",
    "print(e-s)"
   ]
  },
  {
   "source": [
    "## 실전 문제 : 전보\n",
    "\n",
    "N개의 도시가 있고, 메시지는 통로가 설치된 다른 도시를 통해서 보낼 수 있다.  \n",
    "C라는 도시에서 최대한 많은 도시로 메시지를 보내고자 하는데, C에서 보낸 메시지를 받는 도시의 개수와 걸리는 시간 계산하는 프로그램 작성  \n",
    "\n",
    "<입력 조건>\n",
    "- 첫 째 줄에 도시의 개수 N, 통로의 개수 M, 메시지를 보낼 도시 C (1 <= N <= 30000, 1 <= M <= 2000000, 1 <= C <= N)\n",
    "- 둘 째 줄부터 M+1번째 줄에 거쳐 통로에 대한 정보 X, Y, Z가 주어지는데, 이는 X에서 Y로 Z시간이 소요된다는 의미이다. (1 <= X, Y <= N, 1 <= Z <= 1000)\n",
    "\n",
    "<출력 조건>\n",
    "- 첫 번째 줄에 C에서 보낸 메시지를 받는 도시의 총 개수와 걸리는 시간을 공백 기준으로 출력"
   ],
   "cell_type": "markdown",
   "metadata": {}
  },
  {
   "cell_type": "code",
   "execution_count": 33,
   "metadata": {},
   "outputs": [
    {
     "output_type": "stream",
     "name": "stdout",
     "text": [
      "2 4\n0.0\n"
     ]
    }
   ],
   "source": [
    "import heapq\n",
    "\n",
    "input1 = \"\"\"3 2 1\n",
    "1 2 4\n",
    "1 3 2\"\"\"\n",
    "\n",
    "s = time.time()\n",
    "\n",
    "# input\n",
    "lines = input1.split(\"\\n\")\n",
    "N, M, C = (int(l) for l in lines[0].split())\n",
    "graph = [[] for _ in range(N+1)]\n",
    "\n",
    "for line in lines[1:]:\n",
    "    X, Y, Z = (int(l) for l in line.split())\n",
    "    graph[X].append((Y, Z))\n",
    "\n",
    "dist_list = [math.inf]*(N+1)\n",
    "\n",
    "def dijkstra(start):\n",
    "    Q = []\n",
    "    heapq.heappush(Q, (0, start))\n",
    "    dist_list[start] = 0\n",
    "    \n",
    "    while Q:\n",
    "        dist, now = heapq.heappop(Q)\n",
    "        if dist_list[now] < dist:\n",
    "            continue\n",
    "        \n",
    "        for g in graph[now]:\n",
    "            cost = dist + g[1]\n",
    "            if cost < dist_list[g[0]]:\n",
    "                dist_list[g[0]] = cost\n",
    "                heapq.heappush(Q, (cost, g[0]))\n",
    "\n",
    "dijkstra(C)\n",
    "\n",
    "reach = 0\n",
    "max_dist = 0\n",
    "for d in dist_list:\n",
    "    if d != math.inf:\n",
    "        reach += 1\n",
    "        max_dist = max(max_dist, d)\n",
    "\n",
    "print(reach-1, max_dist)\n",
    "\n",
    "e = time.time()\n",
    "print(e-s)"
   ]
  },
  {
   "cell_type": "code",
   "execution_count": null,
   "metadata": {},
   "outputs": [],
   "source": []
  }
 ]
}